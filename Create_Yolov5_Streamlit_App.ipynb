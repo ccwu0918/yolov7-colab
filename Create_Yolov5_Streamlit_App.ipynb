{
  "nbformat": 4,
  "nbformat_minor": 0,
  "metadata": {
    "colab": {
      "provenance": [],
      "include_colab_link": true
    },
    "kernelspec": {
      "name": "python3",
      "display_name": "Python 3"
    }
  },
  "cells": [
    {
      "cell_type": "markdown",
      "metadata": {
        "id": "view-in-github",
        "colab_type": "text"
      },
      "source": [
        "<a href=\"https://colab.research.google.com/github/ccwu0918/yolov7-colab/blob/main/Create_Yolov5_Streamlit_App.ipynb\" target=\"_parent\"><img src=\"https://colab.research.google.com/assets/colab-badge.svg\" alt=\"Open In Colab\"/></a>"
      ]
    },
    {
      "cell_type": "markdown",
      "metadata": {
        "id": "vWmc_s2ezvU0"
      },
      "source": [
        "# Run streamlit app from a Google Colab Notebook\n",
        "> Created by [Manuel Romero](https://twitter.com/mrm8488)"
      ]
    },
    {
      "cell_type": "code",
      "metadata": {
        "id": "RvlYkCQ9vFiy",
        "colab": {
          "base_uri": "https://localhost:8080/"
        },
        "outputId": "4892094b-f704-4abb-d960-f863cc76987b"
      },
      "source": [
        "!pip install -q streamlit"
      ],
      "execution_count": 1,
      "outputs": [
        {
          "output_type": "stream",
          "name": "stdout",
          "text": [
            "\u001b[K     |████████████████████████████████| 9.2 MB 14.6 MB/s \n",
            "\u001b[K     |████████████████████████████████| 237 kB 58.0 MB/s \n",
            "\u001b[K     |████████████████████████████████| 164 kB 51.8 MB/s \n",
            "\u001b[K     |████████████████████████████████| 182 kB 59.9 MB/s \n",
            "\u001b[K     |████████████████████████████████| 4.7 MB 33.8 MB/s \n",
            "\u001b[K     |████████████████████████████████| 78 kB 2.6 MB/s \n",
            "\u001b[K     |████████████████████████████████| 62 kB 553 kB/s \n",
            "\u001b[K     |████████████████████████████████| 51 kB 3.0 MB/s \n",
            "\u001b[?25h  Building wheel for validators (setup.py) ... \u001b[?25l\u001b[?25hdone\n"
          ]
        }
      ]
    },
    {
      "cell_type": "code",
      "source": [
        "!git clone https://github.com/xugaoxiang/yolov5-streamlit"
      ],
      "metadata": {
        "colab": {
          "base_uri": "https://localhost:8080/"
        },
        "id": "w-5X2iDxAh9j",
        "outputId": "1a870123-b5e4-496b-ee40-1a20e4cbbe00"
      },
      "execution_count": 2,
      "outputs": [
        {
          "output_type": "stream",
          "name": "stdout",
          "text": [
            "Cloning into 'yolov5-streamlit'...\n",
            "remote: Enumerating objects: 126, done.\u001b[K\n",
            "remote: Total 126 (delta 0), reused 0 (delta 0), pack-reused 126\u001b[K\n",
            "Receiving objects: 100% (126/126), 31.61 MiB | 17.53 MiB/s, done.\n",
            "Resolving deltas: 100% (39/39), done.\n"
          ]
        }
      ]
    },
    {
      "cell_type": "markdown",
      "metadata": {
        "id": "uzvl_5Cv8HeX"
      },
      "source": [
        "Reset the execution environment after streamlit installation"
      ]
    },
    {
      "cell_type": "markdown",
      "metadata": {
        "id": "jnZ0QpzC0UiU"
      },
      "source": [
        "## Download a streamlit app example\n",
        "\n",
        "This example comes from [How to Build a Simple Machine Learning Web App in Python](https://www.youtube.com/watch?v=8M20LyCZDOY) and it will create a **Simple Iris Flower Prediction App**"
      ]
    },
    {
      "cell_type": "markdown",
      "metadata": {
        "id": "encqGJ4u0FYG"
      },
      "source": [
        "## Install ngrok"
      ]
    },
    {
      "cell_type": "code",
      "source": [
        "!pip install -q pyngrok"
      ],
      "metadata": {
        "colab": {
          "base_uri": "https://localhost:8080/"
        },
        "id": "1pVdw7nr_6Ld",
        "outputId": "37ae6070-1440-4641-c700-58d0ad294566"
      },
      "execution_count": 3,
      "outputs": [
        {
          "output_type": "stream",
          "name": "stdout",
          "text": [
            "\u001b[?25l\r\u001b[K     |▍                               | 10 kB 20.4 MB/s eta 0:00:01\r\u001b[K     |▉                               | 20 kB 14.0 MB/s eta 0:00:01\r\u001b[K     |█▎                              | 30 kB 18.5 MB/s eta 0:00:01\r\u001b[K     |█▊                              | 40 kB 11.9 MB/s eta 0:00:01\r\u001b[K     |██▏                             | 51 kB 10.0 MB/s eta 0:00:01\r\u001b[K     |██▋                             | 61 kB 11.6 MB/s eta 0:00:01\r\u001b[K     |███                             | 71 kB 11.0 MB/s eta 0:00:01\r\u001b[K     |███▍                            | 81 kB 11.3 MB/s eta 0:00:01\r\u001b[K     |███▉                            | 92 kB 12.4 MB/s eta 0:00:01\r\u001b[K     |████▎                           | 102 kB 12.6 MB/s eta 0:00:01\r\u001b[K     |████▊                           | 112 kB 12.6 MB/s eta 0:00:01\r\u001b[K     |█████▏                          | 122 kB 12.6 MB/s eta 0:00:01\r\u001b[K     |█████▋                          | 133 kB 12.6 MB/s eta 0:00:01\r\u001b[K     |██████                          | 143 kB 12.6 MB/s eta 0:00:01\r\u001b[K     |██████▌                         | 153 kB 12.6 MB/s eta 0:00:01\r\u001b[K     |██████▉                         | 163 kB 12.6 MB/s eta 0:00:01\r\u001b[K     |███████▎                        | 174 kB 12.6 MB/s eta 0:00:01\r\u001b[K     |███████▊                        | 184 kB 12.6 MB/s eta 0:00:01\r\u001b[K     |████████▏                       | 194 kB 12.6 MB/s eta 0:00:01\r\u001b[K     |████████▋                       | 204 kB 12.6 MB/s eta 0:00:01\r\u001b[K     |█████████                       | 215 kB 12.6 MB/s eta 0:00:01\r\u001b[K     |█████████▌                      | 225 kB 12.6 MB/s eta 0:00:01\r\u001b[K     |██████████                      | 235 kB 12.6 MB/s eta 0:00:01\r\u001b[K     |██████████▎                     | 245 kB 12.6 MB/s eta 0:00:01\r\u001b[K     |██████████▊                     | 256 kB 12.6 MB/s eta 0:00:01\r\u001b[K     |███████████▏                    | 266 kB 12.6 MB/s eta 0:00:01\r\u001b[K     |███████████▋                    | 276 kB 12.6 MB/s eta 0:00:01\r\u001b[K     |████████████                    | 286 kB 12.6 MB/s eta 0:00:01\r\u001b[K     |████████████▌                   | 296 kB 12.6 MB/s eta 0:00:01\r\u001b[K     |█████████████                   | 307 kB 12.6 MB/s eta 0:00:01\r\u001b[K     |█████████████▍                  | 317 kB 12.6 MB/s eta 0:00:01\r\u001b[K     |█████████████▊                  | 327 kB 12.6 MB/s eta 0:00:01\r\u001b[K     |██████████████▏                 | 337 kB 12.6 MB/s eta 0:00:01\r\u001b[K     |██████████████▋                 | 348 kB 12.6 MB/s eta 0:00:01\r\u001b[K     |███████████████                 | 358 kB 12.6 MB/s eta 0:00:01\r\u001b[K     |███████████████▌                | 368 kB 12.6 MB/s eta 0:00:01\r\u001b[K     |████████████████                | 378 kB 12.6 MB/s eta 0:00:01\r\u001b[K     |████████████████▍               | 389 kB 12.6 MB/s eta 0:00:01\r\u001b[K     |████████████████▉               | 399 kB 12.6 MB/s eta 0:00:01\r\u001b[K     |█████████████████▏              | 409 kB 12.6 MB/s eta 0:00:01\r\u001b[K     |█████████████████▋              | 419 kB 12.6 MB/s eta 0:00:01\r\u001b[K     |██████████████████              | 430 kB 12.6 MB/s eta 0:00:01\r\u001b[K     |██████████████████▌             | 440 kB 12.6 MB/s eta 0:00:01\r\u001b[K     |███████████████████             | 450 kB 12.6 MB/s eta 0:00:01\r\u001b[K     |███████████████████▍            | 460 kB 12.6 MB/s eta 0:00:01\r\u001b[K     |███████████████████▉            | 471 kB 12.6 MB/s eta 0:00:01\r\u001b[K     |████████████████████▎           | 481 kB 12.6 MB/s eta 0:00:01\r\u001b[K     |████████████████████▋           | 491 kB 12.6 MB/s eta 0:00:01\r\u001b[K     |█████████████████████           | 501 kB 12.6 MB/s eta 0:00:01\r\u001b[K     |█████████████████████▌          | 512 kB 12.6 MB/s eta 0:00:01\r\u001b[K     |██████████████████████          | 522 kB 12.6 MB/s eta 0:00:01\r\u001b[K     |██████████████████████▍         | 532 kB 12.6 MB/s eta 0:00:01\r\u001b[K     |██████████████████████▉         | 542 kB 12.6 MB/s eta 0:00:01\r\u001b[K     |███████████████████████▎        | 552 kB 12.6 MB/s eta 0:00:01\r\u001b[K     |███████████████████████▊        | 563 kB 12.6 MB/s eta 0:00:01\r\u001b[K     |████████████████████████        | 573 kB 12.6 MB/s eta 0:00:01\r\u001b[K     |████████████████████████▌       | 583 kB 12.6 MB/s eta 0:00:01\r\u001b[K     |█████████████████████████       | 593 kB 12.6 MB/s eta 0:00:01\r\u001b[K     |█████████████████████████▍      | 604 kB 12.6 MB/s eta 0:00:01\r\u001b[K     |█████████████████████████▉      | 614 kB 12.6 MB/s eta 0:00:01\r\u001b[K     |██████████████████████████▎     | 624 kB 12.6 MB/s eta 0:00:01\r\u001b[K     |██████████████████████████▊     | 634 kB 12.6 MB/s eta 0:00:01\r\u001b[K     |███████████████████████████▏    | 645 kB 12.6 MB/s eta 0:00:01\r\u001b[K     |███████████████████████████▌    | 655 kB 12.6 MB/s eta 0:00:01\r\u001b[K     |████████████████████████████    | 665 kB 12.6 MB/s eta 0:00:01\r\u001b[K     |████████████████████████████▍   | 675 kB 12.6 MB/s eta 0:00:01\r\u001b[K     |████████████████████████████▉   | 686 kB 12.6 MB/s eta 0:00:01\r\u001b[K     |█████████████████████████████▎  | 696 kB 12.6 MB/s eta 0:00:01\r\u001b[K     |█████████████████████████████▊  | 706 kB 12.6 MB/s eta 0:00:01\r\u001b[K     |██████████████████████████████▏ | 716 kB 12.6 MB/s eta 0:00:01\r\u001b[K     |██████████████████████████████▋ | 727 kB 12.6 MB/s eta 0:00:01\r\u001b[K     |███████████████████████████████ | 737 kB 12.6 MB/s eta 0:00:01\r\u001b[K     |███████████████████████████████▍| 747 kB 12.6 MB/s eta 0:00:01\r\u001b[K     |███████████████████████████████▉| 757 kB 12.6 MB/s eta 0:00:01\r\u001b[K     |████████████████████████████████| 761 kB 12.6 MB/s \n",
            "\u001b[?25h  Building wheel for pyngrok (setup.py) ... \u001b[?25l\u001b[?25hdone\n"
          ]
        }
      ]
    },
    {
      "cell_type": "code",
      "metadata": {
        "id": "VSPUMEHYwqng"
      },
      "source": [
        "# !wget https://bin.equinox.io/c/4VmDzA7iaHb/ngrok-stable-linux-amd64.zip"
      ],
      "execution_count": 4,
      "outputs": []
    },
    {
      "cell_type": "code",
      "metadata": {
        "id": "6679q_6fwsJH"
      },
      "source": [
        "# !unzip ngrok-stable-linux-amd64.zip"
      ],
      "execution_count": 5,
      "outputs": []
    },
    {
      "cell_type": "code",
      "metadata": {
        "id": "qGCM2OjvxNit"
      },
      "source": [
        "# get_ipython().system_raw('./ngrok http 8501 &')"
      ],
      "execution_count": 6,
      "outputs": []
    },
    {
      "cell_type": "code",
      "source": [
        "!ngrok authtoken\t29Yeppg9EErt12XNjS2DlOVpMQv_4GHpNG5xMiBCPHwm2TzmD"
      ],
      "metadata": {
        "colab": {
          "base_uri": "https://localhost:8080/"
        },
        "id": "yhAfWIRVEhYi",
        "outputId": "719d9b5a-4518-4bda-9692-8247fa5a6160"
      },
      "execution_count": 7,
      "outputs": [
        {
          "output_type": "stream",
          "name": "stdout",
          "text": [
            "Authtoken saved to configuration file: /root/.ngrok2/ngrok.yml\n"
          ]
        }
      ]
    },
    {
      "cell_type": "code",
      "source": [
        "from pyngrok import ngrok\n",
        "public_url = ngrok.connect(port=80)\n",
        "public_url"
      ],
      "metadata": {
        "colab": {
          "base_uri": "https://localhost:8080/"
        },
        "id": "hVjj770-AtZ5",
        "outputId": "d66a354a-0cb3-4442-f479-8de9d6ca89e7"
      },
      "execution_count": 23,
      "outputs": [
        {
          "output_type": "execute_result",
          "data": {
            "text/plain": [
              "<NgrokTunnel: \"http://8b4c-34-90-5-113.ngrok.io\" -> \"http://localhost:80\">"
            ]
          },
          "metadata": {},
          "execution_count": 23
        }
      ]
    },
    {
      "cell_type": "code",
      "source": [
        "#!streamlit run --server.port 80 /content/streamlit_app.py >/dev/null"
      ],
      "metadata": {
        "id": "60uVkmDtAxby"
      },
      "execution_count": 9,
      "outputs": []
    },
    {
      "cell_type": "code",
      "source": [
        "%cd /content/yolov5-streamlit"
      ],
      "metadata": {
        "colab": {
          "base_uri": "https://localhost:8080/"
        },
        "id": "jl_3hBLjr76E",
        "outputId": "32eb2fd8-5e01-4ec6-aeb3-b814a9ee6ffa"
      },
      "execution_count": 17,
      "outputs": [
        {
          "output_type": "stream",
          "name": "stdout",
          "text": [
            "/content/yolov5-streamlit\n"
          ]
        }
      ]
    },
    {
      "cell_type": "code",
      "source": [
        "!sed -i 's/self.align_corners,/self.align_corners/'  /usr/local/lib/python3.8/dist-packages/torch/nn/modules/upsampling.py\n",
        "!sed -i 's/recompute_scale_factor=self.recompute_scale_factor//'  /usr/local/lib/python3.8/dist-packages/torch/nn/modules/upsampling.py"
      ],
      "metadata": {
        "id": "VzFvAR-duQUU"
      },
      "execution_count": 21,
      "outputs": []
    },
    {
      "cell_type": "code",
      "source": [
        "!streamlit run --server.port 80 main.py >/dev/null"
      ],
      "metadata": {
        "colab": {
          "base_uri": "https://localhost:8080/"
        },
        "id": "JbGnUx14HNGn",
        "outputId": "b88f19a1-2a55-4a3a-fed8-e77e71082304"
      },
      "execution_count": null,
      "outputs": [
        {
          "output_type": "stream",
          "name": "stdout",
          "text": [
            "2022-12-05 19:20:04.412 YOLOv5 🚀 66e9415 torch 1.12.1+cu113 CPU\n",
            "\n",
            "2022-12-05 19:20:04.837 Model Summary: 224 layers, 7266973 parameters, 0 gradients\n",
            "/usr/local/lib/python3.8/dist-packages/torch/functional.py:478: UserWarning: torch.meshgrid: in an upcoming release, it will be required to pass the indexing argument. (Triggered internally at  ../aten/src/ATen/native/TensorShape.cpp:2894.)\n",
            "  return _VF.meshgrid(tensors, **kwargs)  # type: ignore[attr-defined]\n"
          ]
        }
      ]
    },
    {
      "cell_type": "code",
      "source": [
        "ngrok.kill()"
      ],
      "metadata": {
        "id": "grzA6X0yBTMQ"
      },
      "execution_count": 19,
      "outputs": []
    },
    {
      "cell_type": "code",
      "metadata": {
        "id": "bxwv00hdxedU"
      },
      "source": [
        "!curl -s http://localhost:4040/api/tunnels | python3 -c 'import sys, json; print(\"Execute the next cell and the go to the following URL: \" +json.load(sys.stdin)[\"tunnels\"][0][\"public_url\"])'"
      ],
      "execution_count": null,
      "outputs": []
    },
    {
      "cell_type": "markdown",
      "metadata": {
        "id": "WJf7BCm84KWe"
      },
      "source": [
        "[![ko-fi](https://www.ko-fi.com/img/githubbutton_sm.svg)](https://ko-fi.com/Y8Y3VYYE)"
      ]
    }
  ]
}